{
 "cells": [
  {
   "cell_type": "markdown",
   "id": "bdbc2c09-8db0-4fb1-a5e3-16c4223259dd",
   "metadata": {},
   "source": [
    "# Day One Challenge - 2023 Advent of Code"
   ]
  },
  {
   "cell_type": "markdown",
   "id": "ff2695d3-f575-4234-a2df-7df716ad0096",
   "metadata": {},
   "source": [
    "Can I simply load things this way? Let's see."
   ]
  },
  {
   "cell_type": "code",
   "execution_count": 1,
   "id": "d396e3f9-1240-4146-a63a-185fd40155e1",
   "metadata": {},
   "outputs": [],
   "source": [
    "import requests\n",
    "\n",
    "textfile_url = 'https://adventofcode.com/2023/day/1/input'\n",
    "\n",
    "day_one_input = requests.get(textfile_url)"
   ]
  },
  {
   "cell_type": "code",
   "execution_count": 4,
   "id": "f5e0438a-da32-4f36-9272-c1be4d5c05e1",
   "metadata": {},
   "outputs": [
    {
     "name": "stdout",
     "output_type": "stream",
     "text": [
      "You need to download the file manually.\n"
     ]
    }
   ],
   "source": [
    "if day_one_input.status_code == 200:\n",
    "    print('We\\'re good.')\n",
    "else:\n",
    "    print('You need to download the file manually.')"
   ]
  },
  {
   "cell_type": "markdown",
   "id": "4df132db-dbdf-4af2-87e4-30ddae352e12",
   "metadata": {},
   "source": [
    "## Part One solution:\n",
    "\n",
    "After downloading the file, I did the following:"
   ]
  },
  {
   "cell_type": "code",
   "execution_count": 6,
   "id": "13f43e08-a879-416c-91d6-f924751aeed2",
   "metadata": {},
   "outputs": [],
   "source": [
    "filepath = 'day_one_input.txt'\n",
    "\n",
    "numbers = []\n",
    "\n",
    "with open(filepath,'r') as my_file:\n",
    "    #For each line in our file:\n",
    "    for line in my_file:\n",
    "        #We keep the digits\n",
    "        line_digits = ''.join([x for x in line if x.isdigit()])\n",
    "        #If there are digits in our resulting string, we apply our conversion.\n",
    "        #Our string could be '7'; in this case, the resulting number needs to be 77.\n",
    "        #Sometimes, we could have something like 12456, in which case 16 is our result.\n",
    "        #Basically, I take the first and last digits (first x 10 + last). \n",
    "        if line_digits != '':\n",
    "            numbers.append(int(line_digits[0])*10 + int(line_digits[-1]))"
   ]
  },
  {
   "cell_type": "code",
   "execution_count": 7,
   "id": "9971a5db-f08c-490d-911f-2d8dd7f32f8c",
   "metadata": {},
   "outputs": [
    {
     "name": "stdout",
     "output_type": "stream",
     "text": [
      "53651\n"
     ]
    }
   ],
   "source": [
    "#From there, it's all about summing the numbers. The list type has a built-in sum function. The answer is here.\n",
    "print(sum(numbers))"
   ]
  },
  {
   "cell_type": "markdown",
   "id": "ecf8cf32-8a03-4771-976a-a9ae38ba3839",
   "metadata": {},
   "source": [
    "## Part Two solution\n",
    "\n",
    "It seems that some of our numbers are spelled. Thus, the above solution does not apply to Part Two.\n",
    "\n",
    "That said, the same logic works. We will need to preprocess the string; so, let's create a function.\n",
    "\n",
    "**Important note for anyone reading:**\n",
    "\n",
    "- eightwo should return 82. I had one submission completely bopped out of orbit.\n",
    "- ninethreenine should return 99, not 93. You'll notice something in your first attempts, so please use this as part of your test set.\n",
    "\n",
    "I chose ~doom~ recursive logic. Why do it the easy way (take first digit, last digit approach) when you can go overkill?"
   ]
  },
  {
   "cell_type": "code",
   "execution_count": 50,
   "id": "e8b5990f-e145-4edb-bf79-31f0b4b0bd0a",
   "metadata": {},
   "outputs": [],
   "source": [
    "def fix_spelled_numbers(txt: str) -> str:\n",
    "    corr_txt = txt\n",
    "    \n",
    "    dict_spell = {\n",
    "        'one':'1',\n",
    "        'two':'2',\n",
    "        'three':'3',\n",
    "        'four':'4',\n",
    "        'five':'5',\n",
    "        'six':'6',\n",
    "        'seven':'7',\n",
    "        'eight':'8',\n",
    "        'nine':'9'\n",
    "    }\n",
    "\n",
    "    positions = []\n",
    "\n",
    "    #We want to find out which digit appears first:\n",
    "    for num, digit in dict_spell.items():\n",
    "        pos = corr_txt.find(num)\n",
    "        \n",
    "        if corr_txt.find(num) != -1:\n",
    "            positions.append((pos,{num:digit}))\n",
    "\n",
    "    #Sorting\n",
    "    positions.sort(key=lambda x:x[0])\n",
    "    if positions != []:\n",
    "        pos_dict = positions[0][1]\n",
    "\n",
    "        for num, digit in pos_dict.items():\n",
    "            #After having several \"wrong answers\" due to the \"oneight\" scenario that should give 18,\n",
    "            #I forced the following as a corrective measure: add the last character of a spelled digit.\n",
    "            #that way, we'll be able to handle \"oneight\" as \"oneeight\"\n",
    "            corr_txt = corr_txt.replace(num,digit+num[-1])\n",
    "            \n",
    "        #RECURSIVE HERE: because a spelled digit can reappear a little later, but still before another one.\n",
    "        corr_txt = fix_spelled_numbers(corr_txt)\n",
    "\n",
    "    return corr_txt"
   ]
  },
  {
   "cell_type": "code",
   "execution_count": 49,
   "id": "77e96c88-f1d5-455e-a6ab-57a12ac1e727",
   "metadata": {},
   "outputs": [
    {
     "name": "stdout",
     "output_type": "stream",
     "text": [
      "two1nine 2o19e\n",
      "eightwothree 82o3e\n",
      "abcone2threexyz abc1e23exyz\n",
      "xtwone3four x21e34r\n",
      "4nineeightseven2 49e8t7n2\n",
      "zoneight234 z18t234\n",
      "7pqrstsixteen 7pqrst6xteen\n",
      "eightwo 82o\n",
      "ninethreenine 9e3e9e\n"
     ]
    }
   ],
   "source": [
    "#Here's our test\n",
    "test_txt = ['two1nine','eightwothree','abcone2threexyz','xtwone3four','4nineeightseven2','zoneight234','7pqrstsixteen','eightwo','ninethreenine']\n",
    "\n",
    "for txt in test_txt:\n",
    "    print(txt,fix_spelled_numbers(txt))"
   ]
  },
  {
   "cell_type": "markdown",
   "id": "c09e7f9a-f417-4c05-a43a-bea073a9f42f",
   "metadata": {},
   "source": [
    "The results above have... extra characters. Those extra characters won't have a consequential impact on the end-result, but it should give us an idea of what's needed to solve Part 2.\n",
    "\n",
    "Now let's apply it to the code snippet above."
   ]
  },
  {
   "cell_type": "code",
   "execution_count": 51,
   "id": "16b32235-d1af-4469-b15a-8cbeeab1993c",
   "metadata": {},
   "outputs": [],
   "source": [
    "numbers_two = []\n",
    "\n",
    "with open(filepath,'r') as my_file:\n",
    "    #For each line in our file:\n",
    "    for line in my_file:\n",
    "        #Preprocessing:\n",
    "        proc_line = fix_spelled_numbers(line)\n",
    "        #We keep the digits\n",
    "        line_digits = ''.join([x for x in proc_line if x.isdigit()])\n",
    "        #If there are digits in our resulting string, we apply our conversion.\n",
    "        #Our string could be '7'; in this case, the resulting number needs to be 77.\n",
    "        #Sometimes, we could have something like 12456, in which case 16 is our result.\n",
    "        #Basically, I take the first and last digits (first x 10 + last). \n",
    "        if line_digits != '':\n",
    "            numbers_two.append(int(line_digits[0])*10 + int(line_digits[-1]))"
   ]
  },
  {
   "cell_type": "code",
   "execution_count": 48,
   "id": "d898159d-7ada-4078-8afb-1c9c38016ec7",
   "metadata": {},
   "outputs": [
    {
     "name": "stdout",
     "output_type": "stream",
     "text": [
      "53894\n"
     ]
    }
   ],
   "source": [
    "print(sum(numbers_two))"
   ]
  },
  {
   "cell_type": "code",
   "execution_count": null,
   "id": "9b6fa661-667a-4103-817b-371626f3a5f1",
   "metadata": {},
   "outputs": [],
   "source": []
  }
 ],
 "metadata": {
  "kernelspec": {
   "display_name": "Python 3 (ipykernel)",
   "language": "python",
   "name": "python3"
  },
  "language_info": {
   "codemirror_mode": {
    "name": "ipython",
    "version": 3
   },
   "file_extension": ".py",
   "mimetype": "text/x-python",
   "name": "python",
   "nbconvert_exporter": "python",
   "pygments_lexer": "ipython3",
   "version": "3.10.10"
  }
 },
 "nbformat": 4,
 "nbformat_minor": 5
}
