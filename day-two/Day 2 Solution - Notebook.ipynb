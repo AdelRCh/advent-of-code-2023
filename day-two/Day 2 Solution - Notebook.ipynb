{
 "cells": [
  {
   "cell_type": "markdown",
   "id": "66550b4a-df94-4a67-b71f-f944a25b9da5",
   "metadata": {},
   "source": [
    "# 2023 Advent of Code - Day 2"
   ]
  },
  {
   "cell_type": "markdown",
   "id": "cd814ea5-d619-4a1b-a464-2205a63d592b",
   "metadata": {},
   "source": [
    "## Part 1\n",
    "\n",
    "### Value extraction\n",
    "\n",
    "The whole purpose of this challenge is to extract the maximum value encountered in each game, per color.\n",
    "\n",
    "This is a RegEx problem."
   ]
  },
  {
   "cell_type": "code",
   "execution_count": 4,
   "id": "04718dc7-a5ef-4c53-ab47-ee401bde4d4b",
   "metadata": {},
   "outputs": [],
   "source": [
    "import re\n",
    "FILENAME = 'day_two_input.txt'"
   ]
  },
  {
   "cell_type": "code",
   "execution_count": 25,
   "id": "cfd68f10-c44a-48ad-a93f-5b118f586616",
   "metadata": {},
   "outputs": [],
   "source": [
    "max_v = {\n",
    "    \"blue\":14,\n",
    "    \"green\":13,\n",
    "    \"red\":12\n",
    "}"
   ]
  },
  {
   "cell_type": "markdown",
   "id": "a071fdea-091f-4b73-8928-22c605488f2b",
   "metadata": {},
   "source": [
    "When running the final script, we will make sure to loop over our input.\n",
    "\n",
    "For now, we take a key example that is easy to generalize."
   ]
  },
  {
   "cell_type": "code",
   "execution_count": 50,
   "id": "67acb0f0-7d6e-4971-9000-2e164e40244b",
   "metadata": {},
   "outputs": [],
   "source": [
    "demo_string = 'Game 59: 18 red, 4 blue, 7 green; 11 blue, 19 red, 7 green; 10 red, 9 blue, 1 green; 8 red, 12 green, 4 blue; 6 green, 5 blue, 12 red; 2 blue, 14 green, 2 red'"
   ]
  },
  {
   "cell_type": "code",
   "execution_count": 51,
   "id": "b3e4b0b4-dd69-4f2b-b877-f8fb630a84d6",
   "metadata": {},
   "outputs": [],
   "source": [
    "id_list = []\n",
    "\n",
    "#We can easily isolate the Game ID as follows:\n",
    "game_id = int(demo_string.split(':')[0].replace('Game ',''))"
   ]
  },
  {
   "cell_type": "code",
   "execution_count": 52,
   "id": "5fd400c3-7404-43a5-9059-d5941c2aca9e",
   "metadata": {},
   "outputs": [
    {
     "data": {
      "text/plain": [
       "59"
      ]
     },
     "execution_count": 52,
     "metadata": {},
     "output_type": "execute_result"
    }
   ],
   "source": [
    "game_id"
   ]
  },
  {
   "cell_type": "code",
   "execution_count": 53,
   "id": "4772f023-040c-4ed7-94b4-49129fbcec7e",
   "metadata": {},
   "outputs": [],
   "source": [
    "game_session_str = demo_string.split(':')[1]"
   ]
  },
  {
   "cell_type": "code",
   "execution_count": 49,
   "id": "5bcfc4ce-3ebd-4867-850d-71696e890f4d",
   "metadata": {},
   "outputs": [],
   "source": [
    "#Our RegEx masks\n",
    "blue_re = r\"(\\d*) blue\"\n",
    "red_re = r\"(\\d*) red\"\n",
    "green_re = r\"(\\d*) green\""
   ]
  },
  {
   "cell_type": "code",
   "execution_count": 57,
   "id": "4c9cccd2-96c7-46da-8abc-20b6a59d8005",
   "metadata": {},
   "outputs": [
    {
     "name": "stdout",
     "output_type": "stream",
     "text": [
      "Blue: 11\n",
      "Green: 14\n",
      "Red: 19\n"
     ]
    }
   ],
   "source": [
    "#Our storage variables\n",
    "blue_high, red_high, green_high = 0, 0, 0\n",
    "\n",
    "#Let's get all the values from here.\n",
    "blue_se = [int(x) for x in re.findall(blue_re, game_session_str)]\n",
    "red_se = [int(x) for x in re.findall(red_re, game_session_str)]\n",
    "green_se = [int(x) for x in re.findall(green_re, game_session_str)]\n",
    "\n",
    "#We will also get the maximum values.\n",
    "if blue_se != []:\n",
    "    blue_high = max(blue_se)\n",
    "\n",
    "if red_se != []:\n",
    "    red_high = max(red_se)\n",
    "\n",
    "if green_se != []:\n",
    "    green_high = max(green_se)\n",
    "\n",
    "print(f'''Blue: {blue_high}\n",
    "Green: {green_high}\n",
    "Red: {red_high}''')"
   ]
  },
  {
   "cell_type": "code",
   "execution_count": 55,
   "id": "c5c36ae0-17cb-4dd1-b001-38b86db266fc",
   "metadata": {},
   "outputs": [
    {
     "name": "stdout",
     "output_type": "stream",
     "text": [
      "This game is invalid.\n"
     ]
    }
   ],
   "source": [
    "if (blue_high <= max_v['blue']) and (red_high <= max_v['red']) and (green_high <= max_v['green']):\n",
    "    id_list.append(game_id)\n",
    "else:\n",
    "    print('This game is invalid.')"
   ]
  },
  {
   "cell_type": "markdown",
   "id": "f81cbe80-c1ee-49a0-a616-c2c514663fd7",
   "metadata": {},
   "source": [
    "That worked as intended.\n",
    "\n",
    "**Spoiler alert: Because of what I did above, Part 2 will involve adding three lines of code total.\n",
    " I will mark those additions with a commentary line with (!2!) near it.**"
   ]
  },
  {
   "cell_type": "markdown",
   "id": "bce3cdd4-0166-466b-9a60-c9eaa2f62d65",
   "metadata": {},
   "source": [
    "Time to generalize the logic and see if it works:"
   ]
  },
  {
   "cell_type": "code",
   "execution_count": 48,
   "id": "9de2cf47-1637-4bdb-b219-8f3cae0e4c6c",
   "metadata": {},
   "outputs": [],
   "source": [
    "filename = FILENAME\n",
    "\n",
    "max_v = {\n",
    "    \"blue\":14,\n",
    "    \"green\":13,\n",
    "    \"red\":12\n",
    "}\n",
    "\n",
    "blue_re = r\"(\\d*) blue\"\n",
    "red_re = r\"(\\d*) red\"\n",
    "green_re = r\"(\\d*) green\"\n",
    "\n",
    "with open(filename) as file:\n",
    "\n",
    "    id_list = []\n",
    "    power_cubes = [] #(!2!)\n",
    "    \n",
    "    for line in file:\n",
    "        game_id = int(line.split(':')[0].replace('Game ',''))\n",
    "        game_session_str = line.split(':')[1]\n",
    "        blue_high = 0\n",
    "        red_high = 0\n",
    "        green_high = 0\n",
    "\n",
    "        blue_se = [int(x) for x in re.findall(blue_re, game_session_str)]\n",
    "        red_se = [int(x) for x in re.findall(red_re, game_session_str)]\n",
    "        green_se = [int(x) for x in re.findall(green_re, game_session_str)]\n",
    "\n",
    "        if blue_se != []:\n",
    "            blue_high = max(blue_se)\n",
    "        \n",
    "        if red_se != []:\n",
    "            red_high = max(red_se)\n",
    "        \n",
    "        if green_se != []:\n",
    "            green_high = max(green_se)\n",
    "\n",
    "        #The elf clearly asks for *any* game in Part 2. Not only valid games.\n",
    "        power_cubes.append(blue_high*red_high*green_high) #(!2!)\n",
    "\n",
    "        #For Part 1, however, he wanted the game to conform to our max values.\n",
    "        if (blue_high <= max_v['blue']) and (red_high <= max_v['red']) and (green_high <= max_v['green']):\n",
    "            id_list.append(game_id)\n",
    "            "
   ]
  },
  {
   "cell_type": "code",
   "execution_count": 42,
   "id": "f9317db0-a702-4c96-89b5-932b95d38153",
   "metadata": {},
   "outputs": [
    {
     "data": {
      "text/plain": [
       "2377"
      ]
     },
     "execution_count": 42,
     "metadata": {},
     "output_type": "execute_result"
    }
   ],
   "source": [
    "sum(id_list)"
   ]
  },
  {
   "cell_type": "markdown",
   "id": "be183a59-f7e3-43cc-b221-47360cb0e948",
   "metadata": {},
   "source": [
    "## Part 2"
   ]
  },
  {
   "cell_type": "markdown",
   "id": "30ef8303-863e-4030-bd69-5cb722e71a8a",
   "metadata": {},
   "source": [
    "Upon seeing it, I retroactively added that, very quickly at that. The power_cubes list stores individual game measurements, which we will sum up."
   ]
  },
  {
   "cell_type": "code",
   "execution_count": 58,
   "id": "b8f76a30-50c0-4db6-bc3a-ec23c86b4316",
   "metadata": {},
   "outputs": [
    {
     "data": {
      "text/plain": [
       "71220"
      ]
     },
     "execution_count": 58,
     "metadata": {},
     "output_type": "execute_result"
    }
   ],
   "source": [
    "sum(power_cubes) #(!2!)"
   ]
  }
 ],
 "metadata": {
  "kernelspec": {
   "display_name": "Python 3 (ipykernel)",
   "language": "python",
   "name": "python3"
  },
  "language_info": {
   "codemirror_mode": {
    "name": "ipython",
    "version": 3
   },
   "file_extension": ".py",
   "mimetype": "text/x-python",
   "name": "python",
   "nbconvert_exporter": "python",
   "pygments_lexer": "ipython3",
   "version": "3.10.10"
  }
 },
 "nbformat": 4,
 "nbformat_minor": 5
}
